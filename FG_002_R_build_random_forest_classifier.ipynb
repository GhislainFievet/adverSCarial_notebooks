{
 "cells": [
  {
   "cell_type": "markdown",
   "id": "d3b06bcc",
   "metadata": {},
   "source": [
    "# In this Notebook\n",
    "We build the classifier we use in the adverSCarial notebook demos."
   ]
  },
  {
   "cell_type": "code",
   "execution_count": 1,
   "id": "99865dfc",
   "metadata": {},
   "outputs": [
    {
     "name": "stderr",
     "output_type": "stream",
     "text": [
      "randomForest 4.7-1.1\n",
      "\n",
      "Type rfNews() to see new features/changes/bug fixes.\n",
      "\n",
      "Attaching SeuratObject\n",
      "\n"
     ]
    }
   ],
   "source": [
    "library(randomForest)\n",
    "library(Seurat)\n",
    "library(stringr)"
   ]
  },
  {
   "cell_type": "code",
   "execution_count": null,
   "id": "9d2a37d2",
   "metadata": {},
   "outputs": [],
   "source": []
  },
  {
   "cell_type": "code",
   "execution_count": 2,
   "id": "e95066ea",
   "metadata": {},
   "outputs": [],
   "source": [
    "# Seurat object\n",
    "pbmc = readRDS(\"data/datasets/pbmc.rds\")\n",
    "Idents(pbmc) = \"manual_annotation\""
   ]
  },
  {
   "cell_type": "code",
   "execution_count": 3,
   "id": "39ca3dda",
   "metadata": {},
   "outputs": [],
   "source": [
    "df_exprs = as.data.frame(t(as.data.frame(pbmc@assays$RNA@counts)))\n",
    "df_exprs[,\"type\"] = unname(Idents(pbmc))"
   ]
  },
  {
   "cell_type": "code",
   "execution_count": 4,
   "id": "92c490c0",
   "metadata": {},
   "outputs": [],
   "source": [
    "df_meta = pbmc@meta.data"
   ]
  },
  {
   "cell_type": "code",
   "execution_count": 5,
   "id": "968ec442",
   "metadata": {},
   "outputs": [],
   "source": [
    "df_exprs[,\"type\"] = as.factor(df_exprs[,\"type\"])\n",
    "colnames(df_exprs) = str_replace_all(colnames(df_exprs),\"-\",\"_\")\n",
    "colnames(df_exprs) = str_replace(colnames(df_exprs),\"^\",\"g_\")"
   ]
  },
  {
   "cell_type": "code",
   "execution_count": 6,
   "id": "7512b2f7",
   "metadata": {},
   "outputs": [],
   "source": [
    "df_exprs_4buildRF = df_exprs\n",
    "ntree = 8\n",
    "maxnodes = 75"
   ]
  },
  {
   "cell_type": "code",
   "execution_count": 7,
   "id": "8d8f0937",
   "metadata": {},
   "outputs": [],
   "source": [
    "set.seed(20)\n",
    "rf <- randomForest(g_type~., data=df_exprs_4buildRF, ntree=ntree, maxnodes=maxnodes)"
   ]
  },
  {
   "cell_type": "code",
   "execution_count": 11,
   "id": "c6595fc2",
   "metadata": {},
   "outputs": [],
   "source": [
    "save(rf, file=\"classifiers/rf_scrnaseq\")"
   ]
  },
  {
   "cell_type": "code",
   "execution_count": 8,
   "id": "e23d246f",
   "metadata": {},
   "outputs": [
    {
     "data": {
      "text/plain": [
       "\n",
       "Call:\n",
       " randomForest(formula = g_type ~ ., data = df_exprs_4buildRF,      ntree = ntree, maxnodes = maxnodes) \n",
       "               Type of random forest: classification\n",
       "                     Number of trees: 8\n",
       "No. of variables tried at each split: 117\n",
       "\n",
       "        OOB estimate of  error rate: 35.85%\n",
       "Confusion matrix:\n",
       "             Memory CD4 T   B CD14+ Mono NK CD8 T Naive CD4 T FCGR3A+ Mono DC\n",
       "Memory CD4 T          222  17         10  1    23         188            0  0\n",
       "B                      15 247          5  1     2          53            0  0\n",
       "CD14+ Mono             12  14        400  3     2           9           26  2\n",
       "NK                      3   4          4 72    52           5            0  0\n",
       "CD8 T                  74  21          8 23    98          48            1  0\n",
       "Naive CD4 T           120  31          5  0    12         517            1  1\n",
       "FCGR3A+ Mono            2   1         84  0     0           1           70  1\n",
       "DC                      2   1         15  1     1           0            5  5\n",
       "Platelet                1   2          1  0     0           0            1  0\n",
       "             Platelet class.error\n",
       "Memory CD4 T        0   0.5184382\n",
       "B                   0   0.2352941\n",
       "CD14+ Mono          0   0.1452991\n",
       "NK                  0   0.4857143\n",
       "CD8 T               0   0.6410256\n",
       "Naive CD4 T         1   0.2485465\n",
       "FCGR3A+ Mono        0   0.5597484\n",
       "DC                  0   0.8333333\n",
       "Platelet            8   0.3846154"
      ]
     },
     "metadata": {},
     "output_type": "display_data"
    }
   ],
   "source": [
    "rf"
   ]
  },
  {
   "cell_type": "code",
   "execution_count": 9,
   "id": "fb53f01c",
   "metadata": {},
   "outputs": [],
   "source": [
    "RFClassifier = function(expr, clusters, target, seed=1){\n",
    "    set.seed(seed)\n",
    "    colnames(expr) = str_replace_all(colnames(expr),\"-\",\"_\")\n",
    "    colnames(expr) = str_replace(colnames(expr),\"^\",\"g_\")\n",
    "    \n",
    "    final_predictions <- predict(rf, expr[clusters==target,])\n",
    "    ratio = as.numeric(sort(table(final_predictions), decreasing = T)[1]) / sum(as.numeric(sort(table(final_predictions), decreasing = T)))\n",
    "    predicted_class = names(sort(table(final_predictions), decreasing = T)[1])\n",
    "    if ( ratio < 0.5){\n",
    "        predicted_class = \"NA\"\n",
    "    }\n",
    "    c(predicted_class, ratio)\n",
    "}"
   ]
  },
  {
   "cell_type": "code",
   "execution_count": 10,
   "id": "d5ae4ece",
   "metadata": {},
   "outputs": [
    {
     "data": {
      "text/html": [
       "<style>\n",
       ".list-inline {list-style: none; margin:0; padding: 0}\n",
       ".list-inline>li {display: inline-block}\n",
       ".list-inline>li:not(:last-child)::after {content: \"\\00b7\"; padding: 0 .5ex}\n",
       "</style>\n",
       "<ol class=list-inline><li>'Memory CD4 T'</li><li>'0.622881355932203'</li></ol>\n"
      ],
      "text/latex": [
       "\\begin{enumerate*}\n",
       "\\item 'Memory CD4 T'\n",
       "\\item '0.622881355932203'\n",
       "\\end{enumerate*}\n"
      ],
      "text/markdown": [
       "1. 'Memory CD4 T'\n",
       "2. '0.622881355932203'\n",
       "\n",
       "\n"
      ],
      "text/plain": [
       "[1] \"Memory CD4 T\"      \"0.622881355932203\""
      ]
     },
     "metadata": {},
     "output_type": "display_data"
    }
   ],
   "source": [
    "RFClassifier(t(as.data.frame(pbmc@assays$RNA@counts)), df_exprs$g_type, \"Memory CD4 T\", seed=20)"
   ]
  },
  {
   "cell_type": "code",
   "execution_count": null,
   "id": "7bee8222",
   "metadata": {},
   "outputs": [],
   "source": []
  },
  {
   "cell_type": "code",
   "execution_count": 8,
   "id": "816d4ea1",
   "metadata": {},
   "outputs": [
    {
     "data": {
      "text/plain": [
       "\n",
       "Call:\n",
       " randomForest(formula = g_type ~ ., data = df_exprs, ntree = 20,      maxnodes = 80) \n",
       "               Type of random forest: classification\n",
       "                     Number of trees: 20\n",
       "No. of variables tried at each split: 117\n",
       "\n",
       "        OOB estimate of  error rate: 29.83%\n",
       "Confusion matrix:\n",
       "             Memory CD4 T   B CD14+ Mono  NK CD8 T Naive CD4 T FCGR3A+ Mono DC\n",
       "Memory CD4 T          138   3          3   0    13         315            0  0\n",
       "B                       3 284          1   0     0          56            0  0\n",
       "CD14+ Mono              1   1        461   0     0           8            9  0\n",
       "NK                      1   1          1 101    32           8            0  0\n",
       "CD8 T                  29   3          3  16    99         129            0  0\n",
       "Naive CD4 T            42   3          0   1     3         662            0  0\n",
       "FCGR3A+ Mono            0   0         60   0     0           4           98  0\n",
       "DC                      1   0         19   0     0           0            6  6\n",
       "Platelet                0   0          2   1     0           8            1  0\n",
       "             Platelet class.error\n",
       "Memory CD4 T        0  0.70762712\n",
       "B                   0  0.17441860\n",
       "CD14+ Mono          0  0.03958333\n",
       "NK                  0  0.29861111\n",
       "CD8 T               0  0.64516129\n",
       "Naive CD4 T         0  0.06891702\n",
       "FCGR3A+ Mono        0  0.39506173\n",
       "DC                  0  0.81250000\n",
       "Platelet            2  0.85714286"
      ]
     },
     "metadata": {},
     "output_type": "display_data"
    }
   ],
   "source": [
    "rf"
   ]
  },
  {
   "cell_type": "code",
   "execution_count": 39,
   "id": "bfa4bf19",
   "metadata": {},
   "outputs": [
    {
     "data": {
      "text/html": [
       "<style>\n",
       ".list-inline {list-style: none; margin:0; padding: 0}\n",
       ".list-inline>li {display: inline-block}\n",
       ".list-inline>li:not(:last-child)::after {content: \"\\00b7\"; padding: 0 .5ex}\n",
       "</style>\n",
       "<ol class=list-inline><li>'Naive CD4 T'</li><li>'0.641949152542373'</li></ol>\n"
      ],
      "text/latex": [
       "\\begin{enumerate*}\n",
       "\\item 'Naive CD4 T'\n",
       "\\item '0.641949152542373'\n",
       "\\end{enumerate*}\n"
      ],
      "text/markdown": [
       "1. 'Naive CD4 T'\n",
       "2. '0.641949152542373'\n",
       "\n",
       "\n"
      ],
      "text/plain": [
       "[1] \"Naive CD4 T\"       \"0.641949152542373\""
      ]
     },
     "metadata": {},
     "output_type": "display_data"
    }
   ],
   "source": [
    "RFClassifier(t(as.data.frame(pbmc@assays$RNA@counts)), df_exprs$g_type, \"Memory CD4 T\", seed=19)"
   ]
  },
  {
   "cell_type": "code",
   "execution_count": 37,
   "id": "d916c553",
   "metadata": {},
   "outputs": [
    {
     "data": {
      "text/html": [
       "<style>\n",
       ".list-inline {list-style: none; margin:0; padding: 0}\n",
       ".list-inline>li {display: inline-block}\n",
       ".list-inline>li:not(:last-child)::after {content: \"\\00b7\"; padding: 0 .5ex}\n",
       "</style>\n",
       "<ol class=list-inline><li>'Naive CD4 T'</li><li>'0.648305084745763'</li></ol>\n"
      ],
      "text/latex": [
       "\\begin{enumerate*}\n",
       "\\item 'Naive CD4 T'\n",
       "\\item '0.648305084745763'\n",
       "\\end{enumerate*}\n"
      ],
      "text/markdown": [
       "1. 'Naive CD4 T'\n",
       "2. '0.648305084745763'\n",
       "\n",
       "\n"
      ],
      "text/plain": [
       "[1] \"Naive CD4 T\"       \"0.648305084745763\""
      ]
     },
     "metadata": {},
     "output_type": "display_data"
    }
   ],
   "source": [
    "RFClassifier(t(as.data.frame(pbmc@assays$RNA@counts)), df_exprs$g_type, \"Memory CD4 T\", seed=20)"
   ]
  },
  {
   "cell_type": "code",
   "execution_count": 40,
   "id": "32fb69bd",
   "metadata": {},
   "outputs": [
    {
     "data": {
      "text/html": [
       "0.667372881355932"
      ],
      "text/latex": [
       "0.667372881355932"
      ],
      "text/markdown": [
       "0.667372881355932"
      ],
      "text/plain": [
       "[1] 0.6673729"
      ]
     },
     "metadata": {},
     "output_type": "display_data"
    }
   ],
   "source": [
    "315/(138+3+3+13+315)"
   ]
  },
  {
   "cell_type": "code",
   "execution_count": 41,
   "id": "8d4c89d6",
   "metadata": {},
   "outputs": [],
   "source": [
    "rf_prev = rf"
   ]
  },
  {
   "cell_type": "code",
   "execution_count": 9,
   "id": "ef9e02ca",
   "metadata": {},
   "outputs": [],
   "source": [
    "load(\"classifiers/rf_seed20_ntree20_maxnodes80_CLONE\")"
   ]
  },
  {
   "cell_type": "code",
   "execution_count": 10,
   "id": "87259def",
   "metadata": {},
   "outputs": [
    {
     "data": {
      "text/plain": [
       "\n",
       "Call:\n",
       " randomForest(formula = g_type ~ ., data = df_exprs_4buildRF,      ntree = ntree, maxnodes = maxnodes) \n",
       "               Type of random forest: classification\n",
       "                     Number of trees: 20\n",
       "No. of variables tried at each split: 117\n",
       "\n",
       "        OOB estimate of  error rate: 26.84%\n",
       "Confusion matrix:\n",
       "             Naive CD4 T CD14+ Mono Memory CD4 T   B CD8 T FCGR3A+ Mono NK DC\n",
       "Naive CD4 T          658          3           34   9     7            0  0  0\n",
       "CD14+ Mono             7        461            0   1     0           11  0  0\n",
       "Memory CD4 T         288          5          162   3    11            1  2  0\n",
       "B                     26          4            4 309     1            0  0  0\n",
       "CD8 T                 96          3           36   3   128            0 13  0\n",
       "FCGR3A+ Mono           3         58            0   1     0          100  0  0\n",
       "NK                    11          0            3   1    34            0 95  0\n",
       "DC                     1         19            1   0     0            1  0 10\n",
       "Platelet               1          4            0   1     0            1  0  0\n",
       "             Platelet class.error\n",
       "Naive CD4 T         0  0.07454290\n",
       "CD14+ Mono          0  0.03958333\n",
       "Memory CD4 T        0  0.65677966\n",
       "B                   0  0.10174419\n",
       "CD8 T               0  0.54121864\n",
       "FCGR3A+ Mono        0  0.38271605\n",
       "NK                  0  0.34027778\n",
       "DC                  0  0.68750000\n",
       "Platelet            7  0.50000000"
      ]
     },
     "metadata": {},
     "output_type": "display_data"
    }
   ],
   "source": [
    "rf"
   ]
  },
  {
   "cell_type": "code",
   "execution_count": 43,
   "id": "68d01cf6",
   "metadata": {},
   "outputs": [
    {
     "data": {
      "text/html": [
       "<style>\n",
       ".list-inline {list-style: none; margin:0; padding: 0}\n",
       ".list-inline>li {display: inline-block}\n",
       ".list-inline>li:not(:last-child)::after {content: \"\\00b7\"; padding: 0 .5ex}\n",
       "</style>\n",
       "<ol class=list-inline><li>'Memory CD4 T'</li><li>'0.521186440677966'</li></ol>\n"
      ],
      "text/latex": [
       "\\begin{enumerate*}\n",
       "\\item 'Memory CD4 T'\n",
       "\\item '0.521186440677966'\n",
       "\\end{enumerate*}\n"
      ],
      "text/markdown": [
       "1. 'Memory CD4 T'\n",
       "2. '0.521186440677966'\n",
       "\n",
       "\n"
      ],
      "text/plain": [
       "[1] \"Memory CD4 T\"      \"0.521186440677966\""
      ]
     },
     "metadata": {},
     "output_type": "display_data"
    }
   ],
   "source": [
    "RFClassifier(t(as.data.frame(pbmc@assays$RNA@counts)), df_exprs$g_type, \"Memory CD4 T\", seed=20)"
   ]
  },
  {
   "cell_type": "code",
   "execution_count": null,
   "id": "5b7ed2ed",
   "metadata": {},
   "outputs": [],
   "source": []
  },
  {
   "cell_type": "code",
   "execution_count": 32,
   "id": "e49f1a13",
   "metadata": {},
   "outputs": [
    {
     "data": {
      "text/plain": [
       "\n",
       "Call:\n",
       " randomForest(formula = g_type ~ ., data = df_exprs, ntree = 20,      maxnodes = 80) \n",
       "               Type of random forest: classification\n",
       "                     Number of trees: 20\n",
       "No. of variables tried at each split: 117\n",
       "\n",
       "        OOB estimate of  error rate: 29.83%\n",
       "Confusion matrix:\n",
       "             Memory CD4 T   B CD14+ Mono  NK CD8 T Naive CD4 T FCGR3A+ Mono DC\n",
       "Memory CD4 T          138   3          3   0    13         315            0  0\n",
       "B                       3 284          1   0     0          56            0  0\n",
       "CD14+ Mono              1   1        461   0     0           8            9  0\n",
       "NK                      1   1          1 101    32           8            0  0\n",
       "CD8 T                  29   3          3  16    99         129            0  0\n",
       "Naive CD4 T            42   3          0   1     3         662            0  0\n",
       "FCGR3A+ Mono            0   0         60   0     0           4           98  0\n",
       "DC                      1   0         19   0     0           0            6  6\n",
       "Platelet                0   0          2   1     0           8            1  0\n",
       "             Platelet class.error\n",
       "Memory CD4 T        0  0.70762712\n",
       "B                   0  0.17441860\n",
       "CD14+ Mono          0  0.03958333\n",
       "NK                  0  0.29861111\n",
       "CD8 T               0  0.64516129\n",
       "Naive CD4 T         0  0.06891702\n",
       "FCGR3A+ Mono        0  0.39506173\n",
       "DC                  0  0.81250000\n",
       "Platelet            2  0.85714286"
      ]
     },
     "metadata": {},
     "output_type": "display_data"
    }
   ],
   "source": [
    "rf"
   ]
  },
  {
   "cell_type": "code",
   "execution_count": null,
   "id": "465fb010",
   "metadata": {},
   "outputs": [],
   "source": []
  },
  {
   "cell_type": "code",
   "execution_count": null,
   "id": "7500c170",
   "metadata": {},
   "outputs": [],
   "source": []
  },
  {
   "cell_type": "code",
   "execution_count": 16,
   "id": "3bc3b217",
   "metadata": {},
   "outputs": [],
   "source": [
    "save(rf, file=\"classifiers/rf_seed20_ntree20_maxnodes80\")"
   ]
  },
  {
   "cell_type": "code",
   "execution_count": 25,
   "id": "afd673b8",
   "metadata": {},
   "outputs": [
    {
     "data": {
      "text/plain": [
       "\n",
       "Call:\n",
       " randomForest(formula = g_type ~ ., data = df_exprs, ntree = 20,      maxnodes = 80) \n",
       "               Type of random forest: classification\n",
       "                     Number of trees: 20\n",
       "No. of variables tried at each split: 117\n",
       "\n",
       "        OOB estimate of  error rate: 29.83%\n",
       "Confusion matrix:\n",
       "             Memory CD4 T   B CD14+ Mono  NK CD8 T Naive CD4 T FCGR3A+ Mono DC\n",
       "Memory CD4 T          138   3          3   0    13         315            0  0\n",
       "B                       3 284          1   0     0          56            0  0\n",
       "CD14+ Mono              1   1        461   0     0           8            9  0\n",
       "NK                      1   1          1 101    32           8            0  0\n",
       "CD8 T                  29   3          3  16    99         129            0  0\n",
       "Naive CD4 T            42   3          0   1     3         662            0  0\n",
       "FCGR3A+ Mono            0   0         60   0     0           4           98  0\n",
       "DC                      1   0         19   0     0           0            6  6\n",
       "Platelet                0   0          2   1     0           8            1  0\n",
       "             Platelet class.error\n",
       "Memory CD4 T        0  0.70762712\n",
       "B                   0  0.17441860\n",
       "CD14+ Mono          0  0.03958333\n",
       "NK                  0  0.29861111\n",
       "CD8 T               0  0.64516129\n",
       "Naive CD4 T         0  0.06891702\n",
       "FCGR3A+ Mono        0  0.39506173\n",
       "DC                  0  0.81250000\n",
       "Platelet            2  0.85714286"
      ]
     },
     "metadata": {},
     "output_type": "display_data"
    }
   ],
   "source": [
    "rf"
   ]
  },
  {
   "cell_type": "code",
   "execution_count": 17,
   "id": "7358f1c6",
   "metadata": {},
   "outputs": [
    {
     "data": {
      "text/plain": [
       "\n",
       "Call:\n",
       " randomForest(formula = g_type ~ ., data = df_exprs, ntree = 20,      maxnodes = 80) \n",
       "               Type of random forest: classification\n",
       "                     Number of trees: 20\n",
       "No. of variables tried at each split: 117\n",
       "\n",
       "        OOB estimate of  error rate: 29.83%\n",
       "Confusion matrix:\n",
       "             Memory CD4 T   B CD14+ Mono  NK CD8 T Naive CD4 T FCGR3A+ Mono DC\n",
       "Memory CD4 T          138   3          3   0    13         315            0  0\n",
       "B                       3 284          1   0     0          56            0  0\n",
       "CD14+ Mono              1   1        461   0     0           8            9  0\n",
       "NK                      1   1          1 101    32           8            0  0\n",
       "CD8 T                  29   3          3  16    99         129            0  0\n",
       "Naive CD4 T            42   3          0   1     3         662            0  0\n",
       "FCGR3A+ Mono            0   0         60   0     0           4           98  0\n",
       "DC                      1   0         19   0     0           0            6  6\n",
       "Platelet                0   0          2   1     0           8            1  0\n",
       "             Platelet class.error\n",
       "Memory CD4 T        0  0.70762712\n",
       "B                   0  0.17441860\n",
       "CD14+ Mono          0  0.03958333\n",
       "NK                  0  0.29861111\n",
       "CD8 T               0  0.64516129\n",
       "Naive CD4 T         0  0.06891702\n",
       "FCGR3A+ Mono        0  0.39506173\n",
       "DC                  0  0.81250000\n",
       "Platelet            2  0.85714286"
      ]
     },
     "metadata": {},
     "output_type": "display_data"
    }
   ],
   "source": [
    "rf"
   ]
  },
  {
   "cell_type": "code",
   "execution_count": 13,
   "id": "5d549b78",
   "metadata": {},
   "outputs": [
    {
     "data": {
      "text/plain": [
       "\n",
       "Call:\n",
       " randomForest(formula = g_type ~ ., data = df_exprs, ntree = 20,      maxnodes = 80) \n",
       "               Type of random forest: classification\n",
       "                     Number of trees: 20\n",
       "No. of variables tried at each split: 117\n",
       "\n",
       "        OOB estimate of  error rate: 24.49%\n",
       "Confusion matrix:\n",
       "             Memory CD4 T   B CD14+ Mono  NK CD8 T Naive CD4 T FCGR3A+ Mono DC\n",
       "Memory CD4 T          179   1          1   1    11         279            0  0\n",
       "B                       0 320          0   0     0          22            1  1\n",
       "CD14+ Mono              0   2        465   0     0           6            7  0\n",
       "NK                      3   0          0 124    15           2            0  0\n",
       "CD8 T                  35   2          2  17   129          94            0  0\n",
       "Naive CD4 T            45   1          1   0     5         659            0  0\n",
       "FCGR3A+ Mono            0   1         55   0     0           1          105  0\n",
       "DC                      0   4         11   0     0           1            9  7\n",
       "Platelet                1   0          1   0     1           6            1  0\n",
       "             Platelet class.error\n",
       "Memory CD4 T        0  0.62076271\n",
       "B                   0  0.06976744\n",
       "CD14+ Mono          0  0.03125000\n",
       "NK                  0  0.13888889\n",
       "CD8 T               0  0.53763441\n",
       "Naive CD4 T         0  0.07313643\n",
       "FCGR3A+ Mono        0  0.35185185\n",
       "DC                  0  0.78125000\n",
       "Platelet            4  0.71428571"
      ]
     },
     "metadata": {},
     "output_type": "display_data"
    }
   ],
   "source": [
    "rf"
   ]
  },
  {
   "cell_type": "code",
   "execution_count": null,
   "id": "ecc9ae35",
   "metadata": {},
   "outputs": [],
   "source": []
  }
 ],
 "metadata": {
  "kernelspec": {
   "display_name": "R",
   "language": "R",
   "name": "ir"
  },
  "language_info": {
   "codemirror_mode": "r",
   "file_extension": ".r",
   "mimetype": "text/x-r-source",
   "name": "R",
   "pygments_lexer": "r",
   "version": "4.2.0"
  }
 },
 "nbformat": 4,
 "nbformat_minor": 5
}
